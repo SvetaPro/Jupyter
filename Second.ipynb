{
 "cells": [
  {
   "cell_type": "markdown",
   "id": "2f399a51-a216-4ef6-b14e-d596672fdf35",
   "metadata": {},
   "source": [
    "# Последовательность Фибоначчи"
   ]
  },
  {
   "cell_type": "code",
   "execution_count": 1,
   "id": "355712d6-8738-41c5-b722-f2811c2dae82",
   "metadata": {},
   "outputs": [],
   "source": [
    "def fibonacci(sequence_lenght):\n",
    "    sequence = [0,1]\n",
    "    if sequence_lenght < 1:\n",
    "        print (\"Последовательность Фибоначчи не может иметь длину, меньшую 1.\")\n",
    "        return\n",
    "    if 0 < sequence_lenght < 3:\n",
    "        return sequence[0:sequence_lenght]\n",
    "    for i in range(2, sequence_lenght):\n",
    "        sequence.append(sequence[i-1]+sequence[i-2])\n",
    "    return sequence\n",
    "        "
   ]
  },
  {
   "cell_type": "code",
   "execution_count": 2,
   "id": "a47e7950-1931-4a04-b440-122b649a077f",
   "metadata": {},
   "outputs": [
    {
     "data": {
      "text/plain": [
       "[0, 1, 1, 2, 3, 5, 8, 13, 21, 34, 55, 89]"
      ]
     },
     "execution_count": 2,
     "metadata": {},
     "output_type": "execute_result"
    }
   ],
   "source": [
    "fibonacci(12)"
   ]
  },
  {
   "cell_type": "code",
   "execution_count": 3,
   "id": "e4495886-9441-4bf0-b3e7-9a17383666cd",
   "metadata": {},
   "outputs": [
    {
     "data": {
      "text/plain": [
       "[0, 1]"
      ]
     },
     "execution_count": 3,
     "metadata": {},
     "output_type": "execute_result"
    }
   ],
   "source": [
    "fibonacci(2)"
   ]
  },
  {
   "cell_type": "code",
   "execution_count": 4,
   "id": "cd2304cf-12bd-4782-8836-8311ac113581",
   "metadata": {},
   "outputs": [
    {
     "name": "stdout",
     "output_type": "stream",
     "text": [
      "Последовательность Фибоначчи не может иметь длину, меньшую 1.\n"
     ]
    }
   ],
   "source": [
    "fibonacci(0)"
   ]
  },
  {
   "cell_type": "code",
   "execution_count": null,
   "id": "9934a13d-6fbc-4287-866b-41f960a1c913",
   "metadata": {},
   "outputs": [],
   "source": []
  }
 ],
 "metadata": {
  "kernelspec": {
   "display_name": "Python 3 (ipykernel)",
   "language": "python",
   "name": "python3"
  },
  "language_info": {
   "codemirror_mode": {
    "name": "ipython",
    "version": 3
   },
   "file_extension": ".py",
   "mimetype": "text/x-python",
   "name": "python",
   "nbconvert_exporter": "python",
   "pygments_lexer": "ipython3",
   "version": "3.12.1"
  }
 },
 "nbformat": 4,
 "nbformat_minor": 5
}
