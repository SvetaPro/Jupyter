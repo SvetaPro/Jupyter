{
  "nbformat": 4,
  "nbformat_minor": 0,
  "metadata": {
    "colab": {
      "provenance": []
    },
    "kernelspec": {
      "name": "python3",
      "display_name": "Python 3"
    },
    "language_info": {
      "name": "python"
    }
  },
  "cells": [
    {
      "cell_type": "markdown",
      "source": [
        "# Третий файл"
      ],
      "metadata": {
        "id": "O3Irv8u13X7-"
      }
    },
    {
      "cell_type": "code",
      "execution_count": null,
      "metadata": {
        "colab": {
          "base_uri": "https://localhost:8080/"
        },
        "id": "jyGRIgT82Rdc",
        "outputId": "2a32b233-d953-4671-f917-f47d2c90705f"
      },
      "outputs": [
        {
          "output_type": "stream",
          "name": "stdout",
          "text": [
            "Hello World!\n"
          ]
        }
      ],
      "source": [
        "print('Hello World!')"
      ]
    },
    {
      "cell_type": "markdown",
      "source": [
        "$\\sqrt{3x-1}+(1+x)^2$"
      ],
      "metadata": {
        "id": "EcFz6vH_-mTe"
      }
    },
    {
      "cell_type": "code",
      "source": [
        "myoutput = \"\"\"\\\n",
        "@ Step    Energy          Delta E    Gmax       Grms        Xrms        Xmax      Walltime\n",
        "@ ----  ---------------   --------- --------  --------- ---------     ---------   ----------\n",
        "@    0   -6095.12544083  0.0D+00   0.03686     0.00936   0.00000     0.00000     1391.5\n",
        "@    1   -6095.25762870  -1.3D-01   0.00732    0.00168    0.32456     0.84140     10468.0\n",
        "@    2   -6095.26325979  -5.6D-03   0.00233    0.00056    0.06294     0.14009     11963.5\n",
        "@    3   -6095.26428124  -1.0D-03   0.00109    0.00024    0.03245     0.10269     13331.9\n",
        "@    4   -6095.26463203  -3.5D-04   0.00057    0.00013    0.02737     0.09112     14710.8\n",
        "@    5   -6095.26477615  -1.4D-04   0.00043    0.00009    0.02259     0.08615     20211.1\n",
        "@    6   -6095.26482624  -5.0D-05   0.00015    0.00002    0.00831     0.03147     21726.1\n",
        "@    7   -6095.26483584  -9.6D-06   0.00021    0.00004    0.01473     0.05265     24890.5\n",
        "@    8   -6095.26484405  -8.2D-06   0.00005    0.00001    0.00555     0.01929     26448.7\n",
        "@    9   -6095.26484599  -1.9D-06   0.00003    0.00001    0.00164     0.00564     27258.1\n",
        "@    10  -6095.26484676  -7.7D-07   0.00003    0.00001    0.00161     0.00553     28155.3\n",
        "@    11  -6095.26484693  -1.8D-07   0.00002    0.00000    0.00054     0.00151     28981.7\n",
        "@    11  -6095.26484693  -1.8D-07   0.00002    0.00000    0.00054     0.00151     28981.7\"\"\""
      ],
      "metadata": {
        "id": "1pg0Zwwl_Cp7"
      },
      "execution_count": 19,
      "outputs": []
    },
    {
      "cell_type": "code",
      "source": [
        "lines = myoutput.splitlines()\n",
        "lines"
      ],
      "metadata": {
        "colab": {
          "base_uri": "https://localhost:8080/"
        },
        "id": "x7pUDeaXrVJ3",
        "outputId": "7f2969d7-60b2-44e4-878b-9e438f44b81c"
      },
      "execution_count": 20,
      "outputs": [
        {
          "output_type": "execute_result",
          "data": {
            "text/plain": [
              "['@ Step    Energy          Delta E    Gmax       Grms        Xrms        Xmax      Walltime',\n",
              " '@ ----  ---------------   --------- --------  --------- ---------     ---------   ----------',\n",
              " '@    0   -6095.12544083  0.0D+00   0.03686     0.00936   0.00000     0.00000     1391.5 ',\n",
              " '@    1   -6095.25762870  -1.3D-01   0.00732    0.00168    0.32456     0.84140     10468.0 ',\n",
              " '@    2   -6095.26325979  -5.6D-03   0.00233    0.00056    0.06294     0.14009     11963.5 ',\n",
              " '@    3   -6095.26428124  -1.0D-03   0.00109    0.00024    0.03245     0.10269     13331.9 ',\n",
              " '@    4   -6095.26463203  -3.5D-04   0.00057    0.00013    0.02737     0.09112     14710.8 ',\n",
              " '@    5   -6095.26477615  -1.4D-04   0.00043    0.00009    0.02259     0.08615     20211.1 ',\n",
              " '@    6   -6095.26482624  -5.0D-05   0.00015    0.00002    0.00831     0.03147     21726.1 ',\n",
              " '@    7   -6095.26483584  -9.6D-06   0.00021    0.00004    0.01473     0.05265     24890.5 ',\n",
              " '@    8   -6095.26484405  -8.2D-06   0.00005    0.00001    0.00555     0.01929     26448.7 ',\n",
              " '@    9   -6095.26484599  -1.9D-06   0.00003    0.00001    0.00164     0.00564     27258.1 ',\n",
              " '@    10  -6095.26484676  -7.7D-07   0.00003    0.00001    0.00161     0.00553     28155.3 ',\n",
              " '@    11  -6095.26484693  -1.8D-07   0.00002    0.00000    0.00054     0.00151     28981.7 ',\n",
              " '@    11  -6095.26484693  -1.8D-07   0.00002    0.00000    0.00054     0.00151     28981.7']"
            ]
          },
          "metadata": {},
          "execution_count": 20
        }
      ]
    },
    {
      "cell_type": "code",
      "source": [
        "lines[2].split()"
      ],
      "metadata": {
        "colab": {
          "base_uri": "https://localhost:8080/"
        },
        "id": "5X4cm0vVroFv",
        "outputId": "ca939342-a1b6-47a9-91ac-a3994759c779"
      },
      "execution_count": 21,
      "outputs": [
        {
          "output_type": "execute_result",
          "data": {
            "text/plain": [
              "['@',\n",
              " '0',\n",
              " '-6095.12544083',\n",
              " '0.0D+00',\n",
              " '0.03686',\n",
              " '0.00936',\n",
              " '0.00000',\n",
              " '0.00000',\n",
              " '1391.5']"
            ]
          },
          "metadata": {},
          "execution_count": 21
        }
      ]
    },
    {
      "cell_type": "code",
      "source": [
        "for line in lines[2:]:\n",
        "  # do something with each line\n",
        "  words = line.split()\n",
        "  energy = words[2]\n",
        "  gmax = words[4]\n",
        "  time = words [8]\n",
        "  print (energy, gmax,time)"
      ],
      "metadata": {
        "colab": {
          "base_uri": "https://localhost:8080/"
        },
        "id": "JZDiZNsawkD1",
        "outputId": "10575eaa-32c8-4c25-d096-608ffc20bf46"
      },
      "execution_count": 22,
      "outputs": [
        {
          "output_type": "stream",
          "name": "stdout",
          "text": [
            "-6095.12544083 0.03686 1391.5\n",
            "-6095.25762870 0.00732 10468.0\n",
            "-6095.26325979 0.00233 11963.5\n",
            "-6095.26428124 0.00109 13331.9\n",
            "-6095.26463203 0.00057 14710.8\n",
            "-6095.26477615 0.00043 20211.1\n",
            "-6095.26482624 0.00015 21726.1\n",
            "-6095.26483584 0.00021 24890.5\n",
            "-6095.26484405 0.00005 26448.7\n",
            "-6095.26484599 0.00003 27258.1\n",
            "-6095.26484676 0.00003 28155.3\n",
            "-6095.26484693 0.00002 28981.7\n",
            "-6095.26484693 0.00002 28981.7\n"
          ]
        }
      ]
    },
    {
      "cell_type": "code",
      "source": [
        "import numpy as np\n",
        "data = []\n",
        "for line in lines[2:]:\n",
        "  # do something with each line\n",
        "  words = line.split()\n",
        "  energy = float(words[2])\n",
        "  gmax = float(words[4])\n",
        "  time = float(words[8])\n",
        "  data.append((energy, gmax,time))\n",
        "data = np.array(data)"
      ],
      "metadata": {
        "id": "wyZRi6DXzkmc"
      },
      "execution_count": 23,
      "outputs": []
    },
    {
      "cell_type": "code",
      "source": [
        "import matplotlib.pyplot as plt\n",
        "plt.plot(data[:,0])\n",
        "plt.xlabel('step')\n",
        "plt.ylabel('Energy(hartrees)')\n",
        "plt.title('Convergence of NWChem geometry optimization for Si cluster')"
      ],
      "metadata": {
        "colab": {
          "base_uri": "https://localhost:8080/",
          "height": 504
        },
        "id": "2plO9Xop4ije",
        "outputId": "1e6d9863-7341-4c75-82dc-3fe7147bdf2f"
      },
      "execution_count": 24,
      "outputs": [
        {
          "output_type": "execute_result",
          "data": {
            "text/plain": [
              "Text(0.5, 1.0, 'Convergence of NWChem geometry optimization for Si cluster')"
            ]
          },
          "metadata": {},
          "execution_count": 24
        },
        {
          "output_type": "display_data",
          "data": {
            "text/plain": [
              "<Figure size 640x480 with 1 Axes>"
            ],
            "image/png": "[encoded data removed]"
          },
          "metadata": {}
        }
      ]
    }
  ]
}